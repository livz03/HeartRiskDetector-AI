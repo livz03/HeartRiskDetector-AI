{
 "cells": [
  {
   "cell_type": "code",
   "execution_count": null,
   "id": "62971928",
   "metadata": {},
   "outputs": [],
   "source": [
    "from src.preprocess import load_data, split_features_labels\n",
    "from sklearn.ensemble import RandomForestClassifier\n",
    "import joblib\n",
    "\n",
    "df = load_data('../datasets/heart_data.csv')\n",
    "X_train, X_test, y_train, y_test = split_features_labels(df)\n",
    "\n",
    "model = RandomForestClassifier()\n",
    "model.fit(X_train, y_train)\n",
    "\n",
    "# Save model\n",
    "joblib.dump(model, '../models/model.pkl')\n"
   ]
  }
 ],
 "metadata": {
  "language_info": {
   "name": "python"
  }
 },
 "nbformat": 4,
 "nbformat_minor": 5
}
