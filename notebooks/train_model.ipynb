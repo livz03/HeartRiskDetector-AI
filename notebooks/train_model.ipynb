{
 "cells": [
  {
   "cell_type": "code",
   "execution_count": 1,
   "id": "08fa0e19",
   "metadata": {},
   "outputs": [],
   "source": [
    "import pandas as pd\n",
    "import os\n",
    "import joblib\n",
    "from sklearn.metrics import classification_report, accuracy_score"
   ]
  },
  {
   "cell_type": "code",
   "execution_count": null,
   "id": "70b1f0d6",
   "metadata": {},
   "outputs": [],
   "source": [
    "def evaluate_model():\n",
    "    dataset_path = os.path.join(\"..\", \"Datasets\", \"mitbih_test.csv\")\n",
    "    model_path = os.path.join(\"..\", \"models\", \"heart_model.pkl\")\n",
    "\n",
    "    if not os.path.exists(dataset_path):\n",
    "        raise FileNotFoundError(f\"Dataset not found at {dataset_path}\")\n",
    "    if not os.path.exists(model_path):\n",
    "        raise FileNotFoundError(f\"Trained model not found at {model_path}. Run train.py first.\")"
   ]
  },
  {
   "cell_type": "code",
   "execution_count": null,
   "id": "ba30f56e",
   "metadata": {},
   "outputs": [],
   "source": [
    "# Define dataset path\n",
    "dataset_path = os.path.join(\"..\", \"Datasets\", \"mitbih_test.csv\")\n",
    "\n",
    "# Load dataset\n",
    "data = pd.read_csv(dataset_path)\n",
    "X = data.iloc[:, :-1]\n",
    "y = data.iloc[:, -1]"
   ]
  },
  {
   "cell_type": "code",
   "execution_count": null,
   "id": "7bbdc306",
   "metadata": {},
   "outputs": [],
   "source": [
    "# load model\n",
    "model = joblib.load(os.path.join(\"..\", \"models\", \"heart_model.pkl\"))\n"
   ]
  },
  {
   "cell_type": "code",
   "execution_count": null,
   "id": "1f35d996",
   "metadata": {},
   "outputs": [],
   "source": [
    "#predict\n",
    "y_pred = model.predict(x)\n"
   ]
  },
  {
   "cell_type": "code",
   "execution_count": null,
   "id": "7ff3b632",
   "metadata": {},
   "outputs": [],
   "source": [
    "# Evaluate\n",
    "    print(\"✅ Evaluation Results:\")\n",
    "    print(\"Accuracy:\", accuracy_score(y, y_pred))\n",
    "    print(classification_report(y, y_pred))\n",
    "\n",
    "if __name__ == \"__main__\":\n",
    "    evaluate_model()"
   ]
  },
  {
   "cell_type": "code",
   "execution_count": 2,
   "id": "86945203",
   "metadata": {},
   "outputs": [
    {
     "name": "stdout",
     "output_type": "stream",
     "text": [
      "Accuracy: 0.9652888787394382\n",
      "              precision    recall  f1-score   support\n",
      "\n",
      "         0.0       0.96      1.00      0.98      3625\n",
      "         1.0       0.96      0.51      0.67       106\n",
      "         2.0       0.97      0.84      0.90       289\n",
      "         3.0       0.87      0.38      0.53        34\n",
      "         4.0       0.99      0.92      0.96       325\n",
      "\n",
      "    accuracy                           0.97      4379\n",
      "   macro avg       0.95      0.73      0.81      4379\n",
      "weighted avg       0.97      0.97      0.96      4379\n",
      "\n",
      "Sample Prediction: [0.]\n"
     ]
    },
    {
     "name": "stderr",
     "output_type": "stream",
     "text": [
      "e:\\HeartRiskDector-AI\\HeartRiskDetector-AI\\venv\\Lib\\site-packages\\sklearn\\utils\\validation.py:2749: UserWarning: X does not have valid feature names, but RandomForestClassifier was fitted with feature names\n",
      "  warnings.warn(\n"
     ]
    }
   ],
   "source": [
    "# notebooks/train_and_evaluate.ipynb\n",
    "\n",
    "import pandas as pd\n",
    "import os\n",
    "import joblib\n",
    "from sklearn.model_selection import train_test_split\n",
    "from sklearn.ensemble import RandomForestClassifier\n",
    "from sklearn.metrics import accuracy_score, classification_report\n",
    "\n",
    "#  Load dataset\n",
    "dataset_path = \"../Datasets/mitbih_test.csv\"\n",
    "data = pd.read_csv(dataset_path)\n",
    "\n",
    "# Features & Target\n",
    "X = data.iloc[:, :-1]\n",
    "y = data.iloc[:, -1]\n",
    "\n",
    "# Train-test split\n",
    "X_train, X_test, y_train, y_test = train_test_split(X, y, test_size=0.2, random_state=42)\n",
    "\n",
    "# Train model\n",
    "model = RandomForestClassifier(n_estimators=100, random_state=42)\n",
    "model.fit(X_train, y_train)\n",
    "\n",
    "# Save model\n",
    "os.makedirs(\"../models\", exist_ok=True)\n",
    "joblib.dump(model, \"../models/heart_model.pkl\")\n",
    "\n",
    "# Evaluate\n",
    "y_pred = model.predict(X_test)\n",
    "print(\"Accuracy:\", accuracy_score(y_test, y_pred))\n",
    "print(classification_report(y_test, y_pred))\n",
    "\n",
    "# ✅ Example prediction on one row\n",
    "sample = X_test.iloc[0].values.reshape(1, -1)\n",
    "print(\"Sample Prediction:\", model.predict(sample))\n"
   ]
  },
  {
   "cell_type": "code",
   "execution_count": 4,
   "id": "700d84ce",
   "metadata": {},
   "outputs": [
    {
     "name": "stdout",
     "output_type": "stream",
     "text": [
      " Model and Scaler saved in models/ folder\n"
     ]
    }
   ],
   "source": [
    "import pandas as pd\n",
    "from sklearn.model_selection import train_test_split\n",
    "from sklearn.preprocessing import StandardScaler\n",
    "from sklearn.ensemble import RandomForestClassifier\n",
    "import joblib\n",
    "\n",
    "# Load dataset\n",
    "data = pd.read_csv(\"../Datasets/mitbih_test.csv\")\n",
    "\n",
    "X = data.iloc[:, :-1]   # features: all columns except last\n",
    "y = data.iloc[:, -1]    # labels: last column\n",
    "\n",
    "# Split data\n",
    "X_train, X_val, y_train, y_val = train_test_split(X, y, test_size=0.2, random_state=42)\n",
    "\n",
    "# Scale features\n",
    "scaler = StandardScaler()\n",
    "X_train = scaler.fit_transform(X_train)\n",
    "X_val = scaler.transform(X_val)\n",
    "\n",
    "# Train model\n",
    "model = RandomForestClassifier(n_estimators=100, random_state=42)\n",
    "model.fit(X_train, y_train)\n",
    "\n",
    "# Save model + scaler\n",
    "joblib.dump(model, \"../models/heart2_model.pkl\")\n",
    "joblib.dump(scaler, \"../models/scaler2.pkl\")\n",
    "\n",
    "print(\" Model and Scaler saved in models/ folder\")\n"
   ]
  },
  {
   "cell_type": "markdown",
   "id": "64243d2e",
   "metadata": {},
   "source": [
    "### Train and evaluate models from datasets\n"
   ]
  },
  {
   "cell_type": "code",
   "execution_count": 4,
   "id": "27e1fa26",
   "metadata": {},
   "outputs": [
    {
     "name": "stdout",
     "output_type": "stream",
     "text": [
      "(21892, 188)\n"
     ]
    },
    {
     "data": {
      "application/vnd.microsoft.datawrangler.viewer.v0+json": {
       "columns": [
        {
         "name": "index",
         "rawType": "int64",
         "type": "integer"
        },
        {
         "name": "0",
         "rawType": "float64",
         "type": "float"
        },
        {
         "name": "1",
         "rawType": "float64",
         "type": "float"
        },
        {
         "name": "2",
         "rawType": "float64",
         "type": "float"
        },
        {
         "name": "3",
         "rawType": "float64",
         "type": "float"
        },
        {
         "name": "4",
         "rawType": "float64",
         "type": "float"
        },
        {
         "name": "5",
         "rawType": "float64",
         "type": "float"
        },
        {
         "name": "6",
         "rawType": "float64",
         "type": "float"
        },
        {
         "name": "7",
         "rawType": "float64",
         "type": "float"
        },
        {
         "name": "8",
         "rawType": "float64",
         "type": "float"
        },
        {
         "name": "9",
         "rawType": "float64",
         "type": "float"
        },
        {
         "name": "10",
         "rawType": "float64",
         "type": "float"
        },
        {
         "name": "11",
         "rawType": "float64",
         "type": "float"
        },
        {
         "name": "12",
         "rawType": "float64",
         "type": "float"
        },
        {
         "name": "13",
         "rawType": "float64",
         "type": "float"
        },
        {
         "name": "14",
         "rawType": "float64",
         "type": "float"
        },
        {
         "name": "15",
         "rawType": "float64",
         "type": "float"
        },
        {
         "name": "16",
         "rawType": "float64",
         "type": "float"
        },
        {
         "name": "17",
         "rawType": "float64",
         "type": "float"
        },
        {
         "name": "18",
         "rawType": "float64",
         "type": "float"
        },
        {
         "name": "19",
         "rawType": "float64",
         "type": "float"
        },
        {
         "name": "20",
         "rawType": "float64",
         "type": "float"
        },
        {
         "name": "21",
         "rawType": "float64",
         "type": "float"
        },
        {
         "name": "22",
         "rawType": "float64",
         "type": "float"
        },
        {
         "name": "23",
         "rawType": "float64",
         "type": "float"
        },
        {
         "name": "24",
         "rawType": "float64",
         "type": "float"
        },
        {
         "name": "25",
         "rawType": "float64",
         "type": "float"
        },
        {
         "name": "26",
         "rawType": "float64",
         "type": "float"
        },
        {
         "name": "27",
         "rawType": "float64",
         "type": "float"
        },
        {
         "name": "28",
         "rawType": "float64",
         "type": "float"
        },
        {
         "name": "29",
         "rawType": "float64",
         "type": "float"
        },
        {
         "name": "30",
         "rawType": "float64",
         "type": "float"
        },
        {
         "name": "31",
         "rawType": "float64",
         "type": "float"
        },
        {
         "name": "32",
         "rawType": "float64",
         "type": "float"
        },
        {
         "name": "33",
         "rawType": "float64",
         "type": "float"
        },
        {
         "name": "34",
         "rawType": "float64",
         "type": "float"
        },
        {
         "name": "35",
         "rawType": "float64",
         "type": "float"
        },
        {
         "name": "36",
         "rawType": "float64",
         "type": "float"
        },
        {
         "name": "37",
         "rawType": "float64",
         "type": "float"
        },
        {
         "name": "38",
         "rawType": "float64",
         "type": "float"
        },
        {
         "name": "39",
         "rawType": "float64",
         "type": "float"
        },
        {
         "name": "40",
         "rawType": "float64",
         "type": "float"
        },
        {
         "name": "41",
         "rawType": "float64",
         "type": "float"
        },
        {
         "name": "42",
         "rawType": "float64",
         "type": "float"
        },
        {
         "name": "43",
         "rawType": "float64",
         "type": "float"
        },
        {
         "name": "44",
         "rawType": "float64",
         "type": "float"
        },
        {
         "name": "45",
         "rawType": "float64",
         "type": "float"
        },
        {
         "name": "46",
         "rawType": "float64",
         "type": "float"
        },
        {
         "name": "47",
         "rawType": "float64",
         "type": "float"
        },
        {
         "name": "48",
         "rawType": "float64",
         "type": "float"
        },
        {
         "name": "49",
         "rawType": "float64",
         "type": "float"
        },
        {
         "name": "50",
         "rawType": "float64",
         "type": "float"
        },
        {
         "name": "51",
         "rawType": "float64",
         "type": "float"
        },
        {
         "name": "52",
         "rawType": "float64",
         "type": "float"
        },
        {
         "name": "53",
         "rawType": "float64",
         "type": "float"
        },
        {
         "name": "54",
         "rawType": "float64",
         "type": "float"
        },
        {
         "name": "55",
         "rawType": "float64",
         "type": "float"
        },
        {
         "name": "56",
         "rawType": "float64",
         "type": "float"
        },
        {
         "name": "57",
         "rawType": "float64",
         "type": "float"
        },
        {
         "name": "58",
         "rawType": "float64",
         "type": "float"
        },
        {
         "name": "59",
         "rawType": "float64",
         "type": "float"
        },
        {
         "name": "60",
         "rawType": "float64",
         "type": "float"
        },
        {
         "name": "61",
         "rawType": "float64",
         "type": "float"
        },
        {
         "name": "62",
         "rawType": "float64",
         "type": "float"
        },
        {
         "name": "63",
         "rawType": "float64",
         "type": "float"
        },
        {
         "name": "64",
         "rawType": "float64",
         "type": "float"
        },
        {
         "name": "65",
         "rawType": "float64",
         "type": "float"
        },
        {
         "name": "66",
         "rawType": "float64",
         "type": "float"
        },
        {
         "name": "67",
         "rawType": "float64",
         "type": "float"
        },
        {
         "name": "68",
         "rawType": "float64",
         "type": "float"
        },
        {
         "name": "69",
         "rawType": "float64",
         "type": "float"
        },
        {
         "name": "70",
         "rawType": "float64",
         "type": "float"
        },
        {
         "name": "71",
         "rawType": "float64",
         "type": "float"
        },
        {
         "name": "72",
         "rawType": "float64",
         "type": "float"
        },
        {
         "name": "73",
         "rawType": "float64",
         "type": "float"
        },
        {
         "name": "74",
         "rawType": "float64",
         "type": "float"
        },
        {
         "name": "75",
         "rawType": "float64",
         "type": "float"
        },
        {
         "name": "76",
         "rawType": "float64",
         "type": "float"
        },
        {
         "name": "77",
         "rawType": "float64",
         "type": "float"
        },
        {
         "name": "78",
         "rawType": "float64",
         "type": "float"
        },
        {
         "name": "79",
         "rawType": "float64",
         "type": "float"
        },
        {
         "name": "80",
         "rawType": "float64",
         "type": "float"
        },
        {
         "name": "81",
         "rawType": "float64",
         "type": "float"
        },
        {
         "name": "82",
         "rawType": "float64",
         "type": "float"
        },
        {
         "name": "83",
         "rawType": "float64",
         "type": "float"
        },
        {
         "name": "84",
         "rawType": "float64",
         "type": "float"
        },
        {
         "name": "85",
         "rawType": "float64",
         "type": "float"
        },
        {
         "name": "86",
         "rawType": "float64",
         "type": "float"
        },
        {
         "name": "87",
         "rawType": "float64",
         "type": "float"
        },
        {
         "name": "88",
         "rawType": "float64",
         "type": "float"
        },
        {
         "name": "89",
         "rawType": "float64",
         "type": "float"
        },
        {
         "name": "90",
         "rawType": "float64",
         "type": "float"
        },
        {
         "name": "91",
         "rawType": "float64",
         "type": "float"
        },
        {
         "name": "92",
         "rawType": "float64",
         "type": "float"
        },
        {
         "name": "93",
         "rawType": "float64",
         "type": "float"
        },
        {
         "name": "94",
         "rawType": "float64",
         "type": "float"
        },
        {
         "name": "95",
         "rawType": "float64",
         "type": "float"
        },
        {
         "name": "96",
         "rawType": "float64",
         "type": "float"
        },
        {
         "name": "97",
         "rawType": "float64",
         "type": "float"
        },
        {
         "name": "98",
         "rawType": "float64",
         "type": "float"
        },
        {
         "name": "99",
         "rawType": "float64",
         "type": "float"
        },
        {
         "name": "100",
         "rawType": "float64",
         "type": "float"
        },
        {
         "name": "101",
         "rawType": "float64",
         "type": "float"
        },
        {
         "name": "102",
         "rawType": "float64",
         "type": "float"
        },
        {
         "name": "103",
         "rawType": "float64",
         "type": "float"
        },
        {
         "name": "104",
         "rawType": "float64",
         "type": "float"
        },
        {
         "name": "105",
         "rawType": "float64",
         "type": "float"
        },
        {
         "name": "106",
         "rawType": "float64",
         "type": "float"
        },
        {
         "name": "107",
         "rawType": "float64",
         "type": "float"
        },
        {
         "name": "108",
         "rawType": "float64",
         "type": "float"
        },
        {
         "name": "109",
         "rawType": "float64",
         "type": "float"
        },
        {
         "name": "110",
         "rawType": "float64",
         "type": "float"
        },
        {
         "name": "111",
         "rawType": "float64",
         "type": "float"
        },
        {
         "name": "112",
         "rawType": "float64",
         "type": "float"
        },
        {
         "name": "113",
         "rawType": "float64",
         "type": "float"
        },
        {
         "name": "114",
         "rawType": "float64",
         "type": "float"
        },
        {
         "name": "115",
         "rawType": "float64",
         "type": "float"
        },
        {
         "name": "116",
         "rawType": "float64",
         "type": "float"
        },
        {
         "name": "117",
         "rawType": "float64",
         "type": "float"
        },
        {
         "name": "118",
         "rawType": "float64",
         "type": "float"
        },
        {
         "name": "119",
         "rawType": "float64",
         "type": "float"
        },
        {
         "name": "120",
         "rawType": "float64",
         "type": "float"
        },
        {
         "name": "121",
         "rawType": "float64",
         "type": "float"
        },
        {
         "name": "122",
         "rawType": "float64",
         "type": "float"
        },
        {
         "name": "123",
         "rawType": "float64",
         "type": "float"
        },
        {
         "name": "124",
         "rawType": "float64",
         "type": "float"
        },
        {
         "name": "125",
         "rawType": "float64",
         "type": "float"
        },
        {
         "name": "126",
         "rawType": "float64",
         "type": "float"
        },
        {
         "name": "127",
         "rawType": "float64",
         "type": "float"
        },
        {
         "name": "128",
         "rawType": "float64",
         "type": "float"
        },
        {
         "name": "129",
         "rawType": "float64",
         "type": "float"
        },
        {
         "name": "130",
         "rawType": "float64",
         "type": "float"
        },
        {
         "name": "131",
         "rawType": "float64",
         "type": "float"
        },
        {
         "name": "132",
         "rawType": "float64",
         "type": "float"
        },
        {
         "name": "133",
         "rawType": "float64",
         "type": "float"
        },
        {
         "name": "134",
         "rawType": "float64",
         "type": "float"
        },
        {
         "name": "135",
         "rawType": "float64",
         "type": "float"
        },
        {
         "name": "136",
         "rawType": "float64",
         "type": "float"
        },
        {
         "name": "137",
         "rawType": "float64",
         "type": "float"
        },
        {
         "name": "138",
         "rawType": "float64",
         "type": "float"
        },
        {
         "name": "139",
         "rawType": "float64",
         "type": "float"
        },
        {
         "name": "140",
         "rawType": "float64",
         "type": "float"
        },
        {
         "name": "141",
         "rawType": "float64",
         "type": "float"
        },
        {
         "name": "142",
         "rawType": "float64",
         "type": "float"
        },
        {
         "name": "143",
         "rawType": "float64",
         "type": "float"
        },
        {
         "name": "144",
         "rawType": "float64",
         "type": "float"
        },
        {
         "name": "145",
         "rawType": "float64",
         "type": "float"
        },
        {
         "name": "146",
         "rawType": "float64",
         "type": "float"
        },
        {
         "name": "147",
         "rawType": "float64",
         "type": "float"
        },
        {
         "name": "148",
         "rawType": "float64",
         "type": "float"
        },
        {
         "name": "149",
         "rawType": "float64",
         "type": "float"
        },
        {
         "name": "150",
         "rawType": "float64",
         "type": "float"
        },
        {
         "name": "151",
         "rawType": "float64",
         "type": "float"
        },
        {
         "name": "152",
         "rawType": "float64",
         "type": "float"
        },
        {
         "name": "153",
         "rawType": "float64",
         "type": "float"
        },
        {
         "name": "154",
         "rawType": "float64",
         "type": "float"
        },
        {
         "name": "155",
         "rawType": "float64",
         "type": "float"
        },
        {
         "name": "156",
         "rawType": "float64",
         "type": "float"
        },
        {
         "name": "157",
         "rawType": "float64",
         "type": "float"
        },
        {
         "name": "158",
         "rawType": "float64",
         "type": "float"
        },
        {
         "name": "159",
         "rawType": "float64",
         "type": "float"
        },
        {
         "name": "160",
         "rawType": "float64",
         "type": "float"
        },
        {
         "name": "161",
         "rawType": "float64",
         "type": "float"
        },
        {
         "name": "162",
         "rawType": "float64",
         "type": "float"
        },
        {
         "name": "163",
         "rawType": "float64",
         "type": "float"
        },
        {
         "name": "164",
         "rawType": "float64",
         "type": "float"
        },
        {
         "name": "165",
         "rawType": "float64",
         "type": "float"
        },
        {
         "name": "166",
         "rawType": "float64",
         "type": "float"
        },
        {
         "name": "167",
         "rawType": "float64",
         "type": "float"
        },
        {
         "name": "168",
         "rawType": "float64",
         "type": "float"
        },
        {
         "name": "169",
         "rawType": "float64",
         "type": "float"
        },
        {
         "name": "170",
         "rawType": "float64",
         "type": "float"
        },
        {
         "name": "171",
         "rawType": "float64",
         "type": "float"
        },
        {
         "name": "172",
         "rawType": "float64",
         "type": "float"
        },
        {
         "name": "173",
         "rawType": "float64",
         "type": "float"
        },
        {
         "name": "174",
         "rawType": "float64",
         "type": "float"
        },
        {
         "name": "175",
         "rawType": "float64",
         "type": "float"
        },
        {
         "name": "176",
         "rawType": "float64",
         "type": "float"
        },
        {
         "name": "177",
         "rawType": "float64",
         "type": "float"
        },
        {
         "name": "178",
         "rawType": "float64",
         "type": "float"
        },
        {
         "name": "179",
         "rawType": "float64",
         "type": "float"
        },
        {
         "name": "180",
         "rawType": "float64",
         "type": "float"
        },
        {
         "name": "181",
         "rawType": "float64",
         "type": "float"
        },
        {
         "name": "182",
         "rawType": "float64",
         "type": "float"
        },
        {
         "name": "183",
         "rawType": "float64",
         "type": "float"
        },
        {
         "name": "184",
         "rawType": "float64",
         "type": "float"
        },
        {
         "name": "185",
         "rawType": "float64",
         "type": "float"
        },
        {
         "name": "186",
         "rawType": "float64",
         "type": "float"
        },
        {
         "name": "187",
         "rawType": "float64",
         "type": "float"
        }
       ],
       "ref": "6a447ff6-72fe-4d7b-a17f-ef1dfcc5e69f",
       "rows": [
        [
         "0",
         "1.0",
         "0.7582644820213318",
         "0.11157024651765823",
         "0.0",
         "0.08057851344347",
         "0.07851240038871765",
         "0.06611569970846176",
         "0.04958677664399147",
         "0.047520659863948815",
         "0.03512396663427353",
         "0.03099173493683338",
         "0.02892562001943588",
         "0.03512396663427353",
         "0.026859503239393238",
         "0.039256200194358826",
         "0.03512396663427353",
         "0.043388430029153824",
         "0.047520659863948815",
         "0.053719006478786475",
         "0.053719006478786475",
         "0.07024793326854706",
         "0.0723140463232994",
         "0.0847107470035553",
         "0.09710744023323059",
         "0.12190082669258116",
         "0.13223139941692352",
         "0.1694214940071106",
         "0.1962809860706329",
         "0.21487602591514587",
         "0.23553718626499176",
         "0.2541322410106659",
         "0.26446279883384705",
         "0.28512397408485407",
         "0.27272728085517883",
         "0.2665289342403412",
         "0.23966942727565765",
         "0.21487602591514587",
         "0.17355372011661527",
         "0.1570248007774353",
         "0.12396693974733353",
         "0.12190082669258116",
         "0.10743801295757292",
         "0.10537189990282057",
         "0.09710744023323059",
         "0.10537189990282057",
         "0.09917355328798294",
         "0.10537189990282057",
         "0.09917355328798294",
         "0.10743801295757292",
         "0.10743801295757292",
         "0.11570248007774352",
         "0.11157024651765823",
         "0.12190082669258116",
         "0.11157024651765823",
         "0.11983471363782883",
         "0.11157024651765823",
         "0.11363636702299118",
         "0.11157024651765823",
         "0.12190082669258116",
         "0.10537189990282057",
         "0.10743801295757292",
         "0.10123966634273528",
         "0.10123966634273528",
         "0.08677686005830765",
         "0.09297520667314528",
         "0.0847107470035553",
         "0.08264462649822235",
         "0.07851240038871765",
         "0.07851240038871765",
         "0.07024793326854706",
         "0.0764462798833847",
         "0.06818182021379471",
         "0.07851240038871765",
         "0.07024793326854706",
         "0.06818182021379471",
         "0.06818182021379471",
         "0.07438016682863235",
         "0.0723140463232994",
         "0.09090909361839294",
         "0.10123966634273528",
         "0.10743801295757292",
         "0.10537189990282057",
         "0.12190082669258116",
         "0.11570248007774352",
         "0.10950413346290588",
         "0.09710744023323059",
         "0.10330578684806824",
         "0.09710744023323059",
         "0.08677686005830765",
         "0.0723140463232994",
         "0.07024793326854706",
         "0.053719006478786475",
         "0.057851240038871765",
         "0.04958677664399147",
         "0.057851240038871765",
         "0.05165289342403412",
         "0.05578512325882912",
         "0.053719006478786475",
         "0.053719006478786475",
         "0.0",
         "0.012396694160997868",
         "0.18801653385162356",
         "0.6818181872367859",
         "0.9752066135406494",
         "0.6157024502754211",
         "0.041322313249111176",
         "0.012396694160997868",
         "0.08677686005830765",
         "0.06611569970846176",
         "0.06611569970846176",
         "0.05165289342403412",
         "0.039256200194358826",
         "0.043388430029153824",
         "0.03305784985423088",
         "0.041322313249111176",
         "0.03512396663427353",
         "0.04545454680919647",
         "0.041322313249111176",
         "0.04545454680919647",
         "0.043388430029153824",
         "0.04958677664399147",
         "0.047520659863948815",
         "0.06404958665370941",
         "0.06818182021379471",
         "0.0",
         "0.0",
         "0.0",
         "0.0",
         "0.0",
         "0.0",
         "0.0",
         "0.0",
         "0.0",
         "0.0",
         "0.0",
         "0.0",
         "0.0",
         "0.0",
         "0.0",
         "0.0",
         "0.0",
         "0.0",
         "0.0",
         "0.0",
         "0.0",
         "0.0",
         "0.0",
         "0.0",
         "0.0",
         "0.0",
         "0.0",
         "0.0",
         "0.0",
         "0.0",
         "0.0",
         "0.0",
         "0.0",
         "0.0",
         "0.0",
         "0.0",
         "0.0",
         "0.0",
         "0.0",
         "0.0",
         "0.0",
         "0.0",
         "0.0",
         "0.0",
         "0.0",
         "0.0",
         "0.0",
         "0.0",
         "0.0",
         "0.0",
         "0.0",
         "0.0",
         "0.0",
         "0.0",
         "0.0",
         "0.0",
         "0.0",
         "0.0",
         "0.0",
         "0.0",
         "0.0",
         "0.0",
         "0.0",
         "0.0"
        ],
        [
         "1",
         "0.9084249138832092",
         "0.7838827967643738",
         "0.5311355590820312",
         "0.3626373708248138",
         "0.36630037426948553",
         "0.3443223536014557",
         "0.3333333432674408",
         "0.3076923191547394",
         "0.2967033088207245",
         "0.30036631226539606",
         "0.3040293157100677",
         "0.3369963467121124",
         "0.3772893846035004",
         "0.3919413983821869",
         "0.4395604431629181",
         "0.44688645005226135",
         "0.45787546038627613",
         "0.479853481054306",
         "0.512820541858673",
         "0.5347985625267029",
         "0.5860806107521057",
         "0.5860806107521057",
         "0.6043956279754639",
         "0.6336996555328369",
         "0.6153846383094788",
         "0.5824176073074341",
         "0.5641025900840759",
         "0.5201465487480164",
         "0.49084249138832087",
         "0.49084249138832087",
         "0.46886447072029114",
         "0.4542124569416046",
         "0.450549453496933",
         "0.4652014672756195",
         "0.450549453496933",
         "0.4322344362735748",
         "0.4249084293842316",
         "0.41025641560554493",
         "0.3919413983821869",
         "0.3699633777141571",
         "0.37362638115882874",
         "0.36630037426948553",
         "0.3186813294887543",
         "0.311355322599411",
         "0.32600733637809753",
         "0.311355322599411",
         "0.31501832604408264",
         "0.3223443329334259",
         "0.3443223536014557",
         "0.3443223536014557",
         "0.3333333432674408",
         "0.3040293157100677",
         "0.3076923191547394",
         "0.282051295042038",
         "0.27106228470802307",
         "0.2857142984867096",
         "0.2637362778186798",
         "0.2747252881526947",
         "0.282051295042038",
         "0.26739928126335144",
         "0.27838829159736633",
         "0.2893773019313812",
         "0.29304030537605286",
         "0.2893773019313812",
         "0.2893773019313812",
         "0.2893773019313812",
         "0.29304030537605286",
         "0.282051295042038",
         "0.26739928126335144",
         "0.2564102709293365",
         "0.25274726748466486",
         "0.2161172181367874",
         "0.22344322502613068",
         "0.2380952388048172",
         "0.2161172181367874",
         "0.26739928126335144",
         "0.4175824224948883",
         "0.5824176073074341",
         "0.6153846383094788",
         "0.622710645198822",
         "0.761904776096344",
         "0.8644688725471495",
         "1.0",
         "0.9084249138832092",
         "0.6739926934242249",
         "0.31501832604408264",
         "0.1538461595773697",
         "0.1208791211247444",
         "0.09890110045671464",
         "0.04395604506134986",
         "0.02197802253067493",
         "0.02197802253067493",
         "0.0293040294200182",
         "0.0",
         "0.010989011265337467",
         "0.0293040294200182",
         "0.014652014710009098",
         "0.02197802253067493",
         "0.04395604506134986",
         "0.08791209012269972",
         "0.0",
         "0.0",
         "0.0",
         "0.0",
         "0.0",
         "0.0",
         "0.0",
         "0.0",
         "0.0",
         "0.0",
         "0.0",
         "0.0",
         "0.0",
         "0.0",
         "0.0",
         "0.0",
         "0.0",
         "0.0",
         "0.0",
         "0.0",
         "0.0",
         "0.0",
         "0.0",
         "0.0",
         "0.0",
         "0.0",
         "0.0",
         "0.0",
         "0.0",
         "0.0",
         "0.0",
         "0.0",
         "0.0",
         "0.0",
         "0.0",
         "0.0",
         "0.0",
         "0.0",
         "0.0",
         "0.0",
         "0.0",
         "0.0",
         "0.0",
         "0.0",
         "0.0",
         "0.0",
         "0.0",
         "0.0",
         "0.0",
         "0.0",
         "0.0",
         "0.0",
         "0.0",
         "0.0",
         "0.0",
         "0.0",
         "0.0",
         "0.0",
         "0.0",
         "0.0",
         "0.0",
         "0.0",
         "0.0",
         "0.0",
         "0.0",
         "0.0",
         "0.0",
         "0.0",
         "0.0",
         "0.0",
         "0.0",
         "0.0",
         "0.0",
         "0.0",
         "0.0",
         "0.0",
         "0.0",
         "0.0",
         "0.0",
         "0.0",
         "0.0",
         "0.0",
         "0.0",
         "0.0",
         "0.0",
         "0.0",
         "0.0",
         "0.0"
        ],
        [
         "2",
         "0.730088472366333",
         "0.21238937973976132",
         "0.0",
         "0.1194690242409706",
         "0.10176990926265717",
         "0.10176990926265717",
         "0.11061947047710417",
         "0.12389380484819412",
         "0.11504425108432768",
         "0.13274335861206055",
         "0.10619468986988068",
         "0.14159291982650757",
         "0.12831857800483704",
         "0.1504424810409546",
         "0.13274335861206055",
         "0.1504424810409546",
         "0.13274335861206055",
         "0.1504424810409546",
         "0.12389380484819412",
         "0.16371680796146393",
         "0.13716813921928403",
         "0.14159291982650757",
         "0.13274335861206055",
         "0.1504424810409546",
         "0.12831857800483704",
         "0.14601770043373108",
         "0.1194690242409706",
         "0.12389380484819412",
         "0.10176990926265717",
         "0.09292035549879074",
         "0.07079645991325377",
         "0.0796460211277008",
         "0.06637167930603027",
         "0.07079645991325377",
         "0.0796460211277008",
         "0.09292035549879074",
         "0.08849557489156723",
         "0.08407079428434373",
         "0.0796460211277008",
         "0.08849557489156723",
         "0.09292035549879074",
         "0.10619468986988068",
         "0.10619468986988068",
         "0.12389380484819412",
         "0.09734513610601424",
         "0.12389380484819412",
         "0.1194690242409706",
         "0.14159291982650757",
         "0.13274335861206055",
         "0.1548672616481781",
         "0.14601770043373108",
         "0.16814158856868744",
         "0.1592920422554016",
         "0.16371680796146393",
         "0.16814158856868744",
         "0.16814158856868744",
         "0.16371680796146393",
         "0.181415930390358",
         "0.18584071099758148",
         "0.1991150379180908",
         "0.17699114978313446",
         "0.20353981852531436",
         "0.19026549160480496",
         "0.20353981852531436",
         "0.19469027221202848",
         "0.21238937973976132",
         "0.20353981852531436",
         "0.21238937973976132",
         "0.21238937973976132",
         "0.22566372156143188",
         "0.2389380484819412",
         "0.28318583965301514",
         "0.3053097426891327",
         "0.3938052952289581",
         "0.45132744312286377",
         "0.43362832069396967",
         "0.37168142199516296",
         "0.35840708017349243",
         "0.27433627843856806",
         "0.2168141603469849",
         "0.181415930390358",
         "0.18584071099758148",
         "0.18584071099758148",
         "0.18584071099758148",
         "0.19469027221202848",
         "0.22566372156143188",
         "0.181415930390358",
         "0.22566372156143188",
         "0.6681416034698486",
         "1.0",
         "0.4601770043373108",
         "0.19026549160480496",
         "0.20353981852531436",
         "0.20796459913253784",
         "0.19469027221202848",
         "0.20796459913253784",
         "0.19469027221202848",
         "0.18584071099758148",
         "0.19469027221202848",
         "0.21238937973976132",
         "0.20796459913253784",
         "0.2168141603469849",
         "0.20796459913253784",
         "0.22566372156143188",
         "0.2168141603469849",
         "0.23451326787471768",
         "0.22566372156143188",
         "0.23451326787471768",
         "0.23008850216865537",
         "0.0",
         "0.0",
         "0.0",
         "0.0",
         "0.0",
         "0.0",
         "0.0",
         "0.0",
         "0.0",
         "0.0",
         "0.0",
         "0.0",
         "0.0",
         "0.0",
         "0.0",
         "0.0",
         "0.0",
         "0.0",
         "0.0",
         "0.0",
         "0.0",
         "0.0",
         "0.0",
         "0.0",
         "0.0",
         "0.0",
         "0.0",
         "0.0",
         "0.0",
         "0.0",
         "0.0",
         "0.0",
         "0.0",
         "0.0",
         "0.0",
         "0.0",
         "0.0",
         "0.0",
         "0.0",
         "0.0",
         "0.0",
         "0.0",
         "0.0",
         "0.0",
         "0.0",
         "0.0",
         "0.0",
         "0.0",
         "0.0",
         "0.0",
         "0.0",
         "0.0",
         "0.0",
         "0.0",
         "0.0",
         "0.0",
         "0.0",
         "0.0",
         "0.0",
         "0.0",
         "0.0",
         "0.0",
         "0.0",
         "0.0",
         "0.0",
         "0.0",
         "0.0",
         "0.0",
         "0.0",
         "0.0",
         "0.0",
         "0.0",
         "0.0",
         "0.0",
         "0.0",
         "0.0",
         "0.0",
         "0.0",
         "0.0"
        ],
        [
         "3",
         "1.0",
         "0.9104166626930237",
         "0.6812499761581421",
         "0.4729166626930237",
         "0.2291666716337204",
         "0.06875000149011612",
         "0.0",
         "0.004166666883975267",
         "0.014583333395421503",
         "0.05416666716337204",
         "0.10208333283662796",
         "0.12291666865348816",
         "0.15000000596046448",
         "0.16875000298023224",
         "0.17291666567325592",
         "0.17083333432674408",
         "0.16875000298023224",
         "0.16458334028720856",
         "0.15625",
         "0.15208333730697632",
         "0.14791665971279144",
         "0.14791665971279144",
         "0.1458333283662796",
         "0.1458333283662796",
         "0.14166666567325592",
         "0.14166666567325592",
         "0.14791665971279144",
         "0.15833333134651184",
         "0.16875000298023224",
         "0.17916665971279144",
         "0.19166666269302368",
         "0.20624999701976776",
         "0.22083333134651184",
         "0.2395833283662796",
         "0.25833332538604736",
         "0.2750000059604645",
         "0.2874999940395355",
         "0.3083333373069763",
         "0.32083332538604736",
         "0.3312500119209289",
         "0.3416666686534881",
         "0.34583333134651184",
         "0.35208332538604736",
         "0.3541666567325592",
         "0.34583333134651184",
         "0.34583333134651184",
         "0.3479166626930237",
         "0.3416666686534881",
         "0.3416666686534881",
         "0.34375",
         "0.34375",
         "0.3416666686534881",
         "0.3375000059604645",
         "0.3416666686534881",
         "0.3604166805744171",
         "0.3583333194255829",
         "0.3583333194255829",
         "0.35208332538604736",
         "0.35624998807907104",
         "0.3583333194255829",
         "0.34375",
         "0.30416667461395264",
         "0.2874999940395355",
         "0.2708333432674408",
         "0.2666666805744171",
         "0.2604166567325592",
         "0.26249998807907104",
         "0.2562499940395355",
         "0.2687500119209289",
         "0.2604166567325592",
         "0.2645833194255829",
         "0.2687500119209289",
         "0.2708333432674408",
         "0.2708333432674408",
         "0.2750000059604645",
         "0.27291667461395264",
         "0.2791666686534881",
         "0.28125",
         "0.28125",
         "0.28333333134651184",
         "0.2770833373069763",
         "0.2604166567325592",
         "0.3187499940395355",
         "0.48124998807907104",
         "0.6145833134651184",
         "0.7479166388511658",
         "0.9041666388511655",
         "0.9708333611488342",
         "0.9354166388511655",
         "0.7395833134651184",
         "0.5458333492279053",
         "0.31458333134651184",
         "0.12708333134651184",
         "0.01666666753590107",
         "0.020833333954215046",
         "0.02291666716337204",
         "0.06458333134651184",
         "0.10208333283662796",
         "0.12291666865348816",
         "0.15833333134651184",
         "0.1770833283662796",
         "0.17291666567325592",
         "0.17499999701976776",
         "0.16875000298023224",
         "0.16458334028720856",
         "0.0",
         "0.0",
         "0.0",
         "0.0",
         "0.0",
         "0.0",
         "0.0",
         "0.0",
         "0.0",
         "0.0",
         "0.0",
         "0.0",
         "0.0",
         "0.0",
         "0.0",
         "0.0",
         "0.0",
         "0.0",
         "0.0",
         "0.0",
         "0.0",
         "0.0",
         "0.0",
         "0.0",
         "0.0",
         "0.0",
         "0.0",
         "0.0",
         "0.0",
         "0.0",
         "0.0",
         "0.0",
         "0.0",
         "0.0",
         "0.0",
         "0.0",
         "0.0",
         "0.0",
         "0.0",
         "0.0",
         "0.0",
         "0.0",
         "0.0",
         "0.0",
         "0.0",
         "0.0",
         "0.0",
         "0.0",
         "0.0",
         "0.0",
         "0.0",
         "0.0",
         "0.0",
         "0.0",
         "0.0",
         "0.0",
         "0.0",
         "0.0",
         "0.0",
         "0.0",
         "0.0",
         "0.0",
         "0.0",
         "0.0",
         "0.0",
         "0.0",
         "0.0",
         "0.0",
         "0.0",
         "0.0",
         "0.0",
         "0.0",
         "0.0",
         "0.0",
         "0.0",
         "0.0",
         "0.0",
         "0.0",
         "0.0",
         "0.0",
         "0.0",
         "0.0",
         "0.0"
        ],
        [
         "4",
         "0.5704697966575624",
         "0.3993288576602936",
         "0.23825503885746",
         "0.14765100181102753",
         "0.0",
         "0.003355704713612795",
         "0.04026845470070839",
         "0.08053690940141676",
         "0.07046979665756226",
         "0.09060402959585187",
         "0.08053690940141676",
         "0.10402684658765791",
         "0.09395973384380339",
         "0.11744966357946396",
         "0.09731543809175491",
         "0.13422818481922147",
         "0.12416107207536696",
         "0.16107381880283356",
         "0.17114093899726868",
         "0.19463087618350983",
         "0.20469798147678372",
         "0.2617449760437012",
         "0.2751677930355072",
         "0.3322147727012634",
         "0.34563758969306946",
         "0.39597314596176153",
         "0.40604028105735773",
         "0.45637583732604975",
         "0.44630873203277593",
         "0.44630873203277593",
         "0.3993288576602936",
         "0.3691275119781494",
         "0.3087248206138611",
         "0.29530200362205505",
         "0.2651006579399109",
         "0.2718120813369751",
         "0.25838926434516907",
         "0.26845636963844294",
         "0.2617449760437012",
         "0.281879186630249",
         "0.2718120813369751",
         "0.29865771532058716",
         "0.29194632172584534",
         "0.31879195570945734",
         "0.3120805323123932",
         "0.3422818779945373",
         "0.3255033493041992",
         "0.34563758969306946",
         "0.3322147727012634",
         "0.3523489832878113",
         "0.3355704843997956",
         "0.3523489832878113",
         "0.34563758969306946",
         "0.36577180027961725",
         "0.3557046949863434",
         "0.3590604066848755",
         "0.3489933013916016",
         "0.36577180027961725",
         "0.3489933013916016",
         "0.3859060406684875",
         "0.3758389353752136",
         "0.4026845693588257",
         "0.39261746406555176",
         "0.4194630980491638",
         "0.4026845693588257",
         "0.4093959629535675",
         "0.3859060406684875",
         "0.3859060406684875",
         "0.3489933013916016",
         "0.3624161183834076",
         "0.3322147727012634",
         "0.3557046949863434",
         "0.3120805323123932",
         "0.34563758969306946",
         "0.31879195570945734",
         "0.3255033493041992",
         "0.30536913871765137",
         "0.3120805323123932",
         "0.30201342701911926",
         "0.3355704843997956",
         "0.3120805323123932",
         "0.32885906100273127",
         "0.3120805323123932",
         "0.3322147727012634",
         "0.3221476376056671",
         "0.3422818779945373",
         "0.3590604066848755",
         "0.449664443731308",
         "0.5906040072441101",
         "0.7214764952659608",
         "0.6610738039016724",
         "0.6140939593315125",
         "0.744966447353363",
         "0.9697986841201782",
         "1.0",
         "0.8255033493041992",
         "0.6778523325920105",
         "0.5335570573806763",
         "0.30201342701911926",
         "0.19463087618350983",
         "0.1845637559890747",
         "0.25167784094810486",
         "0.24496644735336304",
         "0.24832214415073395",
         "0.22818791866302487",
         "0.25838926434516907",
         "0.231543630361557",
         "0.24832214415073395",
         "0.23489932715892792",
         "0.2651006579399109",
         "0.25503355264663696",
         "0.2718120813369751",
         "0.2651006579399109",
         "0.28859061002731323",
         "0.2785235047340393",
         "0.0",
         "0.0",
         "0.0",
         "0.0",
         "0.0",
         "0.0",
         "0.0",
         "0.0",
         "0.0",
         "0.0",
         "0.0",
         "0.0",
         "0.0",
         "0.0",
         "0.0",
         "0.0",
         "0.0",
         "0.0",
         "0.0",
         "0.0",
         "0.0",
         "0.0",
         "0.0",
         "0.0",
         "0.0",
         "0.0",
         "0.0",
         "0.0",
         "0.0",
         "0.0",
         "0.0",
         "0.0",
         "0.0",
         "0.0",
         "0.0",
         "0.0",
         "0.0",
         "0.0",
         "0.0",
         "0.0",
         "0.0",
         "0.0",
         "0.0",
         "0.0",
         "0.0",
         "0.0",
         "0.0",
         "0.0",
         "0.0",
         "0.0",
         "0.0",
         "0.0",
         "0.0",
         "0.0",
         "0.0",
         "0.0",
         "0.0",
         "0.0",
         "0.0",
         "0.0",
         "0.0",
         "0.0",
         "0.0",
         "0.0",
         "0.0",
         "0.0",
         "0.0",
         "0.0",
         "0.0",
         "0.0",
         "0.0",
         "0.0",
         "0.0"
        ]
       ],
       "shape": {
        "columns": 188,
        "rows": 5
       }
      },
      "text/html": [
       "<div>\n",
       "<style scoped>\n",
       "    .dataframe tbody tr th:only-of-type {\n",
       "        vertical-align: middle;\n",
       "    }\n",
       "\n",
       "    .dataframe tbody tr th {\n",
       "        vertical-align: top;\n",
       "    }\n",
       "\n",
       "    .dataframe thead th {\n",
       "        text-align: right;\n",
       "    }\n",
       "</style>\n",
       "<table border=\"1\" class=\"dataframe\">\n",
       "  <thead>\n",
       "    <tr style=\"text-align: right;\">\n",
       "      <th></th>\n",
       "      <th>0</th>\n",
       "      <th>1</th>\n",
       "      <th>2</th>\n",
       "      <th>3</th>\n",
       "      <th>4</th>\n",
       "      <th>5</th>\n",
       "      <th>6</th>\n",
       "      <th>7</th>\n",
       "      <th>8</th>\n",
       "      <th>9</th>\n",
       "      <th>...</th>\n",
       "      <th>178</th>\n",
       "      <th>179</th>\n",
       "      <th>180</th>\n",
       "      <th>181</th>\n",
       "      <th>182</th>\n",
       "      <th>183</th>\n",
       "      <th>184</th>\n",
       "      <th>185</th>\n",
       "      <th>186</th>\n",
       "      <th>187</th>\n",
       "    </tr>\n",
       "  </thead>\n",
       "  <tbody>\n",
       "    <tr>\n",
       "      <th>0</th>\n",
       "      <td>1.000000</td>\n",
       "      <td>0.758264</td>\n",
       "      <td>0.111570</td>\n",
       "      <td>0.000000</td>\n",
       "      <td>0.080579</td>\n",
       "      <td>0.078512</td>\n",
       "      <td>0.066116</td>\n",
       "      <td>0.049587</td>\n",
       "      <td>0.047521</td>\n",
       "      <td>0.035124</td>\n",
       "      <td>...</td>\n",
       "      <td>0.0</td>\n",
       "      <td>0.0</td>\n",
       "      <td>0.0</td>\n",
       "      <td>0.0</td>\n",
       "      <td>0.0</td>\n",
       "      <td>0.0</td>\n",
       "      <td>0.0</td>\n",
       "      <td>0.0</td>\n",
       "      <td>0.0</td>\n",
       "      <td>0.0</td>\n",
       "    </tr>\n",
       "    <tr>\n",
       "      <th>1</th>\n",
       "      <td>0.908425</td>\n",
       "      <td>0.783883</td>\n",
       "      <td>0.531136</td>\n",
       "      <td>0.362637</td>\n",
       "      <td>0.366300</td>\n",
       "      <td>0.344322</td>\n",
       "      <td>0.333333</td>\n",
       "      <td>0.307692</td>\n",
       "      <td>0.296703</td>\n",
       "      <td>0.300366</td>\n",
       "      <td>...</td>\n",
       "      <td>0.0</td>\n",
       "      <td>0.0</td>\n",
       "      <td>0.0</td>\n",
       "      <td>0.0</td>\n",
       "      <td>0.0</td>\n",
       "      <td>0.0</td>\n",
       "      <td>0.0</td>\n",
       "      <td>0.0</td>\n",
       "      <td>0.0</td>\n",
       "      <td>0.0</td>\n",
       "    </tr>\n",
       "    <tr>\n",
       "      <th>2</th>\n",
       "      <td>0.730088</td>\n",
       "      <td>0.212389</td>\n",
       "      <td>0.000000</td>\n",
       "      <td>0.119469</td>\n",
       "      <td>0.101770</td>\n",
       "      <td>0.101770</td>\n",
       "      <td>0.110619</td>\n",
       "      <td>0.123894</td>\n",
       "      <td>0.115044</td>\n",
       "      <td>0.132743</td>\n",
       "      <td>...</td>\n",
       "      <td>0.0</td>\n",
       "      <td>0.0</td>\n",
       "      <td>0.0</td>\n",
       "      <td>0.0</td>\n",
       "      <td>0.0</td>\n",
       "      <td>0.0</td>\n",
       "      <td>0.0</td>\n",
       "      <td>0.0</td>\n",
       "      <td>0.0</td>\n",
       "      <td>0.0</td>\n",
       "    </tr>\n",
       "    <tr>\n",
       "      <th>3</th>\n",
       "      <td>1.000000</td>\n",
       "      <td>0.910417</td>\n",
       "      <td>0.681250</td>\n",
       "      <td>0.472917</td>\n",
       "      <td>0.229167</td>\n",
       "      <td>0.068750</td>\n",
       "      <td>0.000000</td>\n",
       "      <td>0.004167</td>\n",
       "      <td>0.014583</td>\n",
       "      <td>0.054167</td>\n",
       "      <td>...</td>\n",
       "      <td>0.0</td>\n",
       "      <td>0.0</td>\n",
       "      <td>0.0</td>\n",
       "      <td>0.0</td>\n",
       "      <td>0.0</td>\n",
       "      <td>0.0</td>\n",
       "      <td>0.0</td>\n",
       "      <td>0.0</td>\n",
       "      <td>0.0</td>\n",
       "      <td>0.0</td>\n",
       "    </tr>\n",
       "    <tr>\n",
       "      <th>4</th>\n",
       "      <td>0.570470</td>\n",
       "      <td>0.399329</td>\n",
       "      <td>0.238255</td>\n",
       "      <td>0.147651</td>\n",
       "      <td>0.000000</td>\n",
       "      <td>0.003356</td>\n",
       "      <td>0.040268</td>\n",
       "      <td>0.080537</td>\n",
       "      <td>0.070470</td>\n",
       "      <td>0.090604</td>\n",
       "      <td>...</td>\n",
       "      <td>0.0</td>\n",
       "      <td>0.0</td>\n",
       "      <td>0.0</td>\n",
       "      <td>0.0</td>\n",
       "      <td>0.0</td>\n",
       "      <td>0.0</td>\n",
       "      <td>0.0</td>\n",
       "      <td>0.0</td>\n",
       "      <td>0.0</td>\n",
       "      <td>0.0</td>\n",
       "    </tr>\n",
       "  </tbody>\n",
       "</table>\n",
       "<p>5 rows × 188 columns</p>\n",
       "</div>"
      ],
      "text/plain": [
       "        0         1         2         3         4         5         6    \\\n",
       "0  1.000000  0.758264  0.111570  0.000000  0.080579  0.078512  0.066116   \n",
       "1  0.908425  0.783883  0.531136  0.362637  0.366300  0.344322  0.333333   \n",
       "2  0.730088  0.212389  0.000000  0.119469  0.101770  0.101770  0.110619   \n",
       "3  1.000000  0.910417  0.681250  0.472917  0.229167  0.068750  0.000000   \n",
       "4  0.570470  0.399329  0.238255  0.147651  0.000000  0.003356  0.040268   \n",
       "\n",
       "        7         8         9    ...  178  179  180  181  182  183  184  185  \\\n",
       "0  0.049587  0.047521  0.035124  ...  0.0  0.0  0.0  0.0  0.0  0.0  0.0  0.0   \n",
       "1  0.307692  0.296703  0.300366  ...  0.0  0.0  0.0  0.0  0.0  0.0  0.0  0.0   \n",
       "2  0.123894  0.115044  0.132743  ...  0.0  0.0  0.0  0.0  0.0  0.0  0.0  0.0   \n",
       "3  0.004167  0.014583  0.054167  ...  0.0  0.0  0.0  0.0  0.0  0.0  0.0  0.0   \n",
       "4  0.080537  0.070470  0.090604  ...  0.0  0.0  0.0  0.0  0.0  0.0  0.0  0.0   \n",
       "\n",
       "   186  187  \n",
       "0  0.0  0.0  \n",
       "1  0.0  0.0  \n",
       "2  0.0  0.0  \n",
       "3  0.0  0.0  \n",
       "4  0.0  0.0  \n",
       "\n",
       "[5 rows x 188 columns]"
      ]
     },
     "execution_count": 4,
     "metadata": {},
     "output_type": "execute_result"
    }
   ],
   "source": [
    "# imports and load\n",
    "import pandas as pd\n",
    "from pathlib import Path\n",
    "from sklearn.model_selection import train_test_split\n",
    "from sklearn.preprocessing import StandardScaler\n",
    "from sklearn.ensemble import RandomForestClassifier\n",
    "import joblib\n",
    "from sklearn.metrics import accuracy_score, classification_report\n",
    "\n",
    "root = Path(\"..\")  # if notebook is in notebooks/\n",
    "df = pd.read_csv(root / \"Datasets\" / \"mitbih_test.csv\", header=None)\n",
    "print(df.shape)\n",
    "df.head()\n",
    "\n"
   ]
  },
  {
   "cell_type": "code",
   "execution_count": 5,
   "id": "61366ed5",
   "metadata": {},
   "outputs": [],
   "source": [
    "# prepare X,y\n",
    "X = df.iloc[:, :-1].astype(float).values\n",
    "y = df.iloc[:, -1].astype(int).values\n",
    "X_train, X_test, y_train, y_test = train_test_split(X, y, test_size=0.2, random_state=42, stratify=y)\n",
    "scaler = StandardScaler()\n",
    "X_train_s = scaler.fit_transform(X_train)\n",
    "X_test_s  = scaler.transform(X_test)\n",
    "\n"
   ]
  },
  {
   "cell_type": "code",
   "execution_count": 6,
   "id": "b721a545",
   "metadata": {},
   "outputs": [
    {
     "name": "stdout",
     "output_type": "stream",
     "text": [
      "Acc: 0.964832153459694\n",
      "              precision    recall  f1-score   support\n",
      "\n",
      "           0     0.9638    0.9981    0.9806      3624\n",
      "           1     0.9394    0.5586    0.7006       111\n",
      "           2     0.9710    0.8069    0.8814       290\n",
      "           3     0.8421    0.5000    0.6275        32\n",
      "           4     0.9867    0.9193    0.9518       322\n",
      "\n",
      "    accuracy                         0.9648      4379\n",
      "   macro avg     0.9406    0.7566    0.8284      4379\n",
      "weighted avg     0.9644    0.9648    0.9622      4379\n",
      "\n"
     ]
    }
   ],
   "source": [
    "# Train\n",
    "clf = RandomForestClassifier(n_estimators=300, random_state=42, n_jobs=-1)\n",
    "clf.fit(X_train_s, y_train)\n",
    "y_pred = clf.predict(X_test_s)\n",
    "print(\"Acc:\", accuracy_score(y_test, y_pred))\n",
    "print(classification_report(y_test, y_pred, digits=4))\n",
    "\n"
   ]
  },
  {
   "cell_type": "code",
   "execution_count": 7,
   "id": "f4bc7eed",
   "metadata": {},
   "outputs": [
    {
     "name": "stdout",
     "output_type": "stream",
     "text": [
      "saved models/\n"
     ]
    }
   ],
   "source": [
    "# save models\n",
    "joblib.dump(clf, root / \"models\" / \"mitbih_1_rf.pkl\")\n",
    "joblib.dump(scaler, root / \"models\" / \"mitbih_1_scaler.pkl\")\n",
    "print(\"saved models/\")\n"
   ]
  }
 ],
 "metadata": {
  "kernelspec": {
   "display_name": "venv",
   "language": "python",
   "name": "python3"
  },
  "language_info": {
   "codemirror_mode": {
    "name": "ipython",
    "version": 3
   },
   "file_extension": ".py",
   "mimetype": "text/x-python",
   "name": "python",
   "nbconvert_exporter": "python",
   "pygments_lexer": "ipython3",
   "version": "3.13.2"
  }
 },
 "nbformat": 4,
 "nbformat_minor": 5
}
